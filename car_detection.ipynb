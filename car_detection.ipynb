{
 "cells": [
  {
   "cell_type": "code",
   "execution_count": 1,
   "id": "ac50e24b",
   "metadata": {},
   "outputs": [],
   "source": [
    "import cv2"
   ]
  },
  {
   "cell_type": "code",
   "execution_count": 2,
   "id": "1d415324",
   "metadata": {},
   "outputs": [
    {
     "data": {
      "text/plain": [
       "25.731228298611107"
      ]
     },
     "execution_count": 2,
     "metadata": {},
     "output_type": "execute_result"
    }
   ],
   "source": [
    "def gray_blur(img):\n",
    "    \n",
    "    img_gray=cv2.cvtColor(img,cv2.COLOR_RGB2GRAY)\n",
    "    \n",
    "#     img_blur=cv2.GaussianBlur(img_gray,(3,3),1)\n",
    "    \n",
    "    _, binary_img = cv2.threshold(img_gray, 128, 255, cv2.THRESH_BINARY)\n",
    "\n",
    "    # Calculate the percentage of white pixels in the binary image\n",
    "    total_pixels = binary_img.shape[0] * binary_img.shape[1]\n",
    "    white_pixels = cv2.countNonZero(binary_img)\n",
    "    percentage_white = (white_pixels / total_pixels) * 100\n",
    "    \n",
    "    return percentage_white\n",
    "    \n",
    "\n",
    "    \n",
    "    \n",
    "    \n",
    "    \n",
    "#     while True:\n",
    "        \n",
    "        \n",
    "#         cv2.putText(img, text, org, fontFace, fontScale, color, thickness)\n",
    "#         cv2.imshow('blured_img',img_blur[100:400,100:400])\n",
    "    \n",
    "#         if cv2.waitKey(1) & 0xFF==ord('q'):\n",
    "#             cv2.destroyWindow('blured_img')\n",
    "#             break\n",
    "\n",
    "gray_blur(cv2.imread('car.jpg'))"
   ]
  },
  {
   "cell_type": "code",
   "execution_count": 3,
   "id": "be8f8da8",
   "metadata": {},
   "outputs": [
    {
     "ename": "error",
     "evalue": "OpenCV(4.6.0) C:\\b\\abs_d8ltn27ay8\\croot\\opencv-suite_1676452046667\\work\\modules\\highgui\\src\\window_QT.cpp:578: error: (-27:Null pointer) NULL guiReceiver (please create a window) in function 'cvDestroyWindow'\n",
     "output_type": "error",
     "traceback": [
      "\u001b[1;31m---------------------------------------------------------------------------\u001b[0m",
      "\u001b[1;31merror\u001b[0m                                     Traceback (most recent call last)",
      "Cell \u001b[1;32mIn[3], line 1\u001b[0m\n\u001b[1;32m----> 1\u001b[0m \u001b[43mcv2\u001b[49m\u001b[38;5;241;43m.\u001b[39;49m\u001b[43mdestroyWindow\u001b[49m\u001b[43m(\u001b[49m\u001b[38;5;124;43m'\u001b[39;49m\u001b[38;5;124;43mblured_img\u001b[39;49m\u001b[38;5;124;43m'\u001b[39;49m\u001b[43m)\u001b[49m\n",
      "\u001b[1;31merror\u001b[0m: OpenCV(4.6.0) C:\\b\\abs_d8ltn27ay8\\croot\\opencv-suite_1676452046667\\work\\modules\\highgui\\src\\window_QT.cpp:578: error: (-27:Null pointer) NULL guiReceiver (please create a window) in function 'cvDestroyWindow'\n"
     ]
    }
   ],
   "source": [
    "cv2.destroyWindow('blured_img')"
   ]
  },
  {
   "cell_type": "code",
   "execution_count": 4,
   "id": "83728c36",
   "metadata": {},
   "outputs": [
    {
     "name": "stdout",
     "output_type": "stream",
     "text": [
      "2099th iteration\n",
      "2999th iteration\n",
      "mission successful\n"
     ]
    }
   ],
   "source": [
    "video=cv2.VideoCapture('car.mp4')\n",
    "\n",
    "i=0\n",
    "\n",
    "org = (50, 50) \n",
    "fontFace = cv2.FONT_HERSHEY_SIMPLEX\n",
    "fontScale = 1\n",
    "color = (0, 255, 0) \n",
    "thickness = 2\n",
    "while True:\n",
    "    \n",
    "    flag,frame=video.read()\n",
    "    if flag and 1200<video.get(cv2.CAP_PROP_POS_FRAMES)<2100:\n",
    "        \n",
    "        if gray_blur(frame[330:645,420:610])>20:\n",
    "            cv2.putText(frame, f'{str(round(gray_blur(frame[330:645,420:610]),2))} occupied:1/1 )', org, fontFace, fontScale, color, thickness)\n",
    "        else:\n",
    "            cv2.putText(frame, f'{str(round(gray_blur(frame[330:645,420:610]),2))} occupied:0/1 )', org, fontFace, fontScale, color, thickness)\n",
    "                        \n",
    "        cv2.imshow('name',frame)\n",
    "        \n",
    "        cv2.imshow('new_frame',frame[330:645,420:610])\n",
    "    if video.get(cv2.CAP_PROP_POS_FRAMES)==2100:\n",
    "        video.set(cv2.CAP_PROP_POS_FRAMES,1200)\n",
    "        \n",
    "        print(f'{i}th iteration')\n",
    "    \n",
    "    if (0xFF & cv2.waitKey(1))==ord('q'):\n",
    "        cv2.destroyWindow('name')\n",
    "        cv2.destroyWindow('new_frame')\n",
    "        print('mission successful')\n",
    "        break\n",
    "    i+=1"
   ]
  },
  {
   "cell_type": "code",
   "execution_count": 148,
   "id": "2ed07c0e",
   "metadata": {},
   "outputs": [],
   "source": [
    "cv2.destroyAllWindows()"
   ]
  },
  {
   "cell_type": "code",
   "execution_count": 15,
   "id": "17ec8c49",
   "metadata": {},
   "outputs": [
    {
     "data": {
      "text/plain": [
       "30.0"
      ]
     },
     "execution_count": 15,
     "metadata": {},
     "output_type": "execute_result"
    }
   ],
   "source": [
    "video.get(cv2.CAP_PROP_FPS)"
   ]
  },
  {
   "cell_type": "code",
   "execution_count": 20,
   "id": "7bdb5df8",
   "metadata": {},
   "outputs": [],
   "source": [
    "from matplotlib import pyplot as plt"
   ]
  },
  {
   "cell_type": "code",
   "execution_count": 101,
   "id": "f5f7c6aa",
   "metadata": {},
   "outputs": [],
   "source": [
    "arr=[]\n",
    "def draw_rectangle(event,x,y,flags,param):\n",
    "    if event==cv2.EVENT_RBUTTONDOWN:\n",
    "        print('hi')\n",
    "        arr.append((x,y))\n",
    "    \n",
    "        "
   ]
  },
  {
   "cell_type": "code",
   "execution_count": 104,
   "id": "a73c8cb4",
   "metadata": {},
   "outputs": [],
   "source": [
    "img1=cv2.imread('car.jpg')\n",
    "while True:\n",
    "    \n",
    "    for pos in arr:\n",
    "        cv2.rectangle(img1,pos,(pos[0]+200,pos[1]+200),(255,0,0),2)\n",
    "    cv2.imshow('name',img1)\n",
    "    \n",
    "    cv2.setMouseCallback('name',draw_rectangle)\n",
    "    \n",
    "    if 0xFF & cv2.waitKey(1)==ord('q'):\n",
    "        break\n",
    "    \n",
    "    "
   ]
  },
  {
   "cell_type": "code",
   "execution_count": 137,
   "id": "241ba9b9",
   "metadata": {},
   "outputs": [
    {
     "name": "stdout",
     "output_type": "stream",
     "text": [
      "25.924479166666664\n"
     ]
    },
    {
     "data": {
      "text/plain": [
       "<matplotlib.image.AxesImage at 0x1a6e0dea620>"
      ]
     },
     "execution_count": 137,
     "metadata": {},
     "output_type": "execute_result"
    },
    {
     "data": {
      "image/png": "[encoded data removed]",
      "text/plain": [
       "<Figure size 640x480 with 1 Axes>"
      ]
     },
     "metadata": {},
     "output_type": "display_data"
    }
   ],
   "source": [
    "\n",
    "img=cv2.imread('car.jpg')\n",
    "\n",
    "\n",
    "img_r=cv2.rectangle(img,(420,330),(610,645),(255,0,0),2)\n",
    "print(gray_blur(img_r))\n",
    "\n",
    "plt.imshow(img_r[330:645,420:610])"
   ]
  },
  {
   "cell_type": "code",
   "execution_count": 126,
   "id": "6885865d",
   "metadata": {},
   "outputs": [],
   "source": [
    "cv2.destroyWindow('new_frame')"
   ]
  },
  {
   "cell_type": "code",
   "execution_count": 110,
   "id": "58f20c75",
   "metadata": {},
   "outputs": [
    {
     "name": "stdout",
     "output_type": "stream",
     "text": [
      "0\n"
     ]
    }
   ],
   "source": [
    "x=0\n",
    "\n",
    "if -1<x<1:\n",
    "    print(x)"
   ]
  },
  {
   "cell_type": "code",
   "execution_count": null,
   "id": "942d8003",
   "metadata": {},
   "outputs": [],
   "source": []
  }
 ],
 "metadata": {
  "kernelspec": {
   "display_name": "Python 3 (ipykernel)",
   "language": "python",
   "name": "python3"
  },
  "language_info": {
   "codemirror_mode": {
    "name": "ipython",
    "version": 3
   },
   "file_extension": ".py",
   "mimetype": "text/x-python",
   "name": "python",
   "nbconvert_exporter": "python",
   "pygments_lexer": "ipython3",
   "version": "3.10.9"
  }
 },
 "nbformat": 4,
 "nbformat_minor": 5
}
